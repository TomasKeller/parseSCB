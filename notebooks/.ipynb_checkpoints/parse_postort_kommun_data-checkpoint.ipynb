{
 "cells": [
  {
   "cell_type": "code",
   "execution_count": 1,
   "metadata": {},
   "outputs": [],
   "source": [
    "import pandas as pd"
   ]
  },
  {
   "cell_type": "code",
   "execution_count": 2,
   "metadata": {},
   "outputs": [],
   "source": [
    "raw=pd.read_csv('../data/postort_kommun_lan_se.csv', header=None)#, delimiter=';', header=None)"
   ]
  },
  {
   "cell_type": "code",
   "execution_count": 3,
   "metadata": {},
   "outputs": [
    {
     "data": {
      "text/html": [
       "<div>\n",
       "<style scoped>\n",
       "    .dataframe tbody tr th:only-of-type {\n",
       "        vertical-align: middle;\n",
       "    }\n",
       "\n",
       "    .dataframe tbody tr th {\n",
       "        vertical-align: top;\n",
       "    }\n",
       "\n",
       "    .dataframe thead th {\n",
       "        text-align: right;\n",
       "    }\n",
       "</style>\n",
       "<table border=\"1\" class=\"dataframe\">\n",
       "  <thead>\n",
       "    <tr style=\"text-align: right;\">\n",
       "      <th></th>\n",
       "      <th>0</th>\n",
       "    </tr>\n",
       "  </thead>\n",
       "  <tbody>\n",
       "    <tr>\n",
       "      <th>0</th>\n",
       "      <td>Abbekås  Skurups;kommun; Skåne;län;;;</td>\n",
       "    </tr>\n",
       "    <tr>\n",
       "      <th>1</th>\n",
       "      <td>Abborrträsk  Arvidsjaurs;kommun; Norrbottens;l...</td>\n",
       "    </tr>\n",
       "    <tr>\n",
       "      <th>2</th>\n",
       "      <td>Abisko  Kiruna;kommun; Norrbottens;län;;;</td>\n",
       "    </tr>\n",
       "    <tr>\n",
       "      <th>3</th>\n",
       "      <td>Adak  Malå;kommun; Västerbottens;län;;;</td>\n",
       "    </tr>\n",
       "    <tr>\n",
       "      <th>4</th>\n",
       "      <td>Adelsö  Ekerö;kommun; Stockholms;län;;;</td>\n",
       "    </tr>\n",
       "  </tbody>\n",
       "</table>\n",
       "</div>"
      ],
      "text/plain": [
       "                                                   0\n",
       "0              Abbekås  Skurups;kommun; Skåne;län;;;\n",
       "1  Abborrträsk  Arvidsjaurs;kommun; Norrbottens;l...\n",
       "2          Abisko  Kiruna;kommun; Norrbottens;län;;;\n",
       "3            Adak  Malå;kommun; Västerbottens;län;;;\n",
       "4            Adelsö  Ekerö;kommun; Stockholms;län;;;"
      ]
     },
     "execution_count": 3,
     "metadata": {},
     "output_type": "execute_result"
    }
   ],
   "source": [
    "raw.head()"
   ]
  },
  {
   "cell_type": "code",
   "execution_count": 51,
   "metadata": {},
   "outputs": [],
   "source": [
    "import re\n",
    "raw['Kommun']=raw[0].map(lambda x:re.sub(';$', ' kommun', re.sub('\\s+',' ',x.split('kommun')[0]).split(' ')[1]).replace(';', ' '))"
   ]
  },
  {
   "cell_type": "code",
   "execution_count": 52,
   "metadata": {},
   "outputs": [
    {
     "data": {
      "text/plain": [
       "0               Skåne län\n",
       "1         Norrbottens län\n",
       "2         Norrbottens län\n",
       "3       Västerbottens län\n",
       "4          Stockholms län\n",
       "5    Västra Götalands län\n",
       "6          Kronobergs län\n",
       "7    Västra Götalands län\n",
       "8     Västernorrlands län\n",
       "9          Gävleborgs län\n",
       "Name: Lan, dtype: object"
      ]
     },
     "execution_count": 52,
     "metadata": {},
     "output_type": "execute_result"
    }
   ],
   "source": [
    "raw['Lan']=raw[0].map(lambda x:x.split('kommun')[1].replace(';län', ' län').replace(';',' ').strip())\n",
    "raw['Lan'].head(10)"
   ]
  },
  {
   "cell_type": "code",
   "execution_count": 53,
   "metadata": {},
   "outputs": [],
   "source": [
    "raw['foo']=raw[0].map(lambda x:x.replace(';',' '))"
   ]
  },
  {
   "cell_type": "code",
   "execution_count": 56,
   "metadata": {},
   "outputs": [
    {
     "data": {
      "text/plain": [
       "(1715, 5)"
      ]
     },
     "execution_count": 56,
     "metadata": {},
     "output_type": "execute_result"
    }
   ],
   "source": [
    "raw['postort']=[a.replace(b, '').replace(c, '').strip() for a, b, c in zip(raw['foo'], raw['Lan'], raw['Kommun'])]\n",
    "raw.shape"
   ]
  },
  {
   "cell_type": "code",
   "execution_count": 59,
   "metadata": {},
   "outputs": [],
   "source": [
    "parsed=raw[['postort', 'Kommun', 'Lan']]"
   ]
  },
  {
   "cell_type": "code",
   "execution_count": 60,
   "metadata": {},
   "outputs": [],
   "source": [
    "parsed.to_csv('../data/postort_kommun_lan_parsed_se.csv', index=False, encoding='')"
   ]
  },
  {
   "cell_type": "code",
   "execution_count": 61,
   "metadata": {},
   "outputs": [
    {
     "data": {
      "text/html": [
       "<div>\n",
       "<style scoped>\n",
       "    .dataframe tbody tr th:only-of-type {\n",
       "        vertical-align: middle;\n",
       "    }\n",
       "\n",
       "    .dataframe tbody tr th {\n",
       "        vertical-align: top;\n",
       "    }\n",
       "\n",
       "    .dataframe thead th {\n",
       "        text-align: right;\n",
       "    }\n",
       "</style>\n",
       "<table border=\"1\" class=\"dataframe\">\n",
       "  <thead>\n",
       "    <tr style=\"text-align: right;\">\n",
       "      <th></th>\n",
       "      <th>Unnamed: 0</th>\n",
       "      <th>postort</th>\n",
       "      <th>Kommun</th>\n",
       "      <th>Lan</th>\n",
       "    </tr>\n",
       "  </thead>\n",
       "  <tbody>\n",
       "    <tr>\n",
       "      <th>0</th>\n",
       "      <td>0</td>\n",
       "      <td>Abbekås</td>\n",
       "      <td>Skurups kommun</td>\n",
       "      <td>Skåne län</td>\n",
       "    </tr>\n",
       "    <tr>\n",
       "      <th>1</th>\n",
       "      <td>1</td>\n",
       "      <td>Abborrträsk</td>\n",
       "      <td>Arvidsjaurs kommun</td>\n",
       "      <td>Norrbottens län</td>\n",
       "    </tr>\n",
       "    <tr>\n",
       "      <th>2</th>\n",
       "      <td>2</td>\n",
       "      <td>Abisko</td>\n",
       "      <td>Kiruna kommun</td>\n",
       "      <td>Norrbottens län</td>\n",
       "    </tr>\n",
       "    <tr>\n",
       "      <th>3</th>\n",
       "      <td>3</td>\n",
       "      <td>Adak</td>\n",
       "      <td>Malå kommun</td>\n",
       "      <td>Västerbottens län</td>\n",
       "    </tr>\n",
       "    <tr>\n",
       "      <th>4</th>\n",
       "      <td>4</td>\n",
       "      <td>Adelsö</td>\n",
       "      <td>Ekerö kommun</td>\n",
       "      <td>Stockholms län</td>\n",
       "    </tr>\n",
       "  </tbody>\n",
       "</table>\n",
       "</div>"
      ],
      "text/plain": [
       "   Unnamed: 0      postort              Kommun                Lan\n",
       "0           0      Abbekås      Skurups kommun          Skåne län\n",
       "1           1  Abborrträsk  Arvidsjaurs kommun    Norrbottens län\n",
       "2           2       Abisko       Kiruna kommun    Norrbottens län\n",
       "3           3         Adak         Malå kommun  Västerbottens län\n",
       "4           4       Adelsö        Ekerö kommun     Stockholms län"
      ]
     },
     "execution_count": 61,
     "metadata": {},
     "output_type": "execute_result"
    }
   ],
   "source": [
    "pd.read_csv('../data/postort_kommun_lan_parsed_se.csv').head()"
   ]
  },
  {
   "cell_type": "code",
   "execution_count": null,
   "metadata": {},
   "outputs": [],
   "source": []
  }
 ],
 "metadata": {
  "kernelspec": {
   "display_name": "Python 3",
   "language": "python",
   "name": "python3"
  },
  "language_info": {
   "codemirror_mode": {
    "name": "ipython",
    "version": 3
   },
   "file_extension": ".py",
   "mimetype": "text/x-python",
   "name": "python",
   "nbconvert_exporter": "python",
   "pygments_lexer": "ipython3",
   "version": "3.6.10"
  }
 },
 "nbformat": 4,
 "nbformat_minor": 4
}
